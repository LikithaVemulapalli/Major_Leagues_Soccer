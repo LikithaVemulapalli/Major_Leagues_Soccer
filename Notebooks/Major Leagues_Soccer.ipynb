{
 "cells": [
  {
   "cell_type": "markdown",
   "metadata": {},
   "source": [
    "# Major Leagues"
   ]
  },
  {
   "cell_type": "markdown",
   "metadata": {},
   "source": [
    "# Introduction"
   ]
  },
  {
   "cell_type": "markdown",
   "metadata": {},
   "source": [
    "In statistics, linear regression is a linear approach to modeling the relationship between a scalar response (or dependent variable) and one or more explanatory variables (or independent variables). The case of one explanatory variable is called simple linear regression. I used Lasso Regression, Linear Regression and Random Forest Regression models for this project. "
   ]
  },
  {
   "cell_type": "markdown",
   "metadata": {},
   "source": [
    "# Loading the required libraries"
   ]
  },
  {
   "cell_type": "code",
   "execution_count": 1,
   "metadata": {},
   "outputs": [],
   "source": [
    "import numpy as np\n",
    "import matplotlib.pyplot as plt\n",
    "import pandas as pd #this is how I usually import pandas\n",
    "import sys #only needed to determine Python version number\n",
    "import matplotlib #only needed to determine Matplotlib version number\n",
    "\n",
    "# Enable inline plotting\n",
    "%matplotlib inline"
   ]
  },
  {
   "cell_type": "code",
   "execution_count": 2,
   "metadata": {},
   "outputs": [],
   "source": [
    "df = pd.read_csv('../datasets/spi_matches.csv', encoding='utf-8')"
   ]
  },
  {
   "cell_type": "code",
   "execution_count": 3,
   "metadata": {},
   "outputs": [
    {
     "data": {
      "text/html": [
       "<div>\n",
       "<style scoped>\n",
       "    .dataframe tbody tr th:only-of-type {\n",
       "        vertical-align: middle;\n",
       "    }\n",
       "\n",
       "    .dataframe tbody tr th {\n",
       "        vertical-align: top;\n",
       "    }\n",
       "\n",
       "    .dataframe thead th {\n",
       "        text-align: right;\n",
       "    }\n",
       "</style>\n",
       "<table border=\"1\" class=\"dataframe\">\n",
       "  <thead>\n",
       "    <tr style=\"text-align: right;\">\n",
       "      <th></th>\n",
       "      <th>date</th>\n",
       "      <th>league_id</th>\n",
       "      <th>league</th>\n",
       "      <th>team1</th>\n",
       "      <th>team2</th>\n",
       "      <th>spi1</th>\n",
       "      <th>spi2</th>\n",
       "      <th>prob1</th>\n",
       "      <th>prob2</th>\n",
       "      <th>probtie</th>\n",
       "      <th>...</th>\n",
       "      <th>importance1</th>\n",
       "      <th>importance2</th>\n",
       "      <th>score1</th>\n",
       "      <th>score2</th>\n",
       "      <th>xg1</th>\n",
       "      <th>xg2</th>\n",
       "      <th>nsxg1</th>\n",
       "      <th>nsxg2</th>\n",
       "      <th>adj_score1</th>\n",
       "      <th>adj_score2</th>\n",
       "    </tr>\n",
       "  </thead>\n",
       "  <tbody>\n",
       "    <tr>\n",
       "      <th>0</th>\n",
       "      <td>12-08-2016</td>\n",
       "      <td>1843</td>\n",
       "      <td>French Ligue 1</td>\n",
       "      <td>Bastia</td>\n",
       "      <td>Paris Saint-Germain</td>\n",
       "      <td>51.16</td>\n",
       "      <td>85.68</td>\n",
       "      <td>0.0463</td>\n",
       "      <td>0.8380</td>\n",
       "      <td>0.1157</td>\n",
       "      <td>...</td>\n",
       "      <td>32.4</td>\n",
       "      <td>67.7</td>\n",
       "      <td>0.0</td>\n",
       "      <td>1.0</td>\n",
       "      <td>0.97</td>\n",
       "      <td>0.63</td>\n",
       "      <td>0.43</td>\n",
       "      <td>0.45</td>\n",
       "      <td>0.00</td>\n",
       "      <td>1.05</td>\n",
       "    </tr>\n",
       "    <tr>\n",
       "      <th>1</th>\n",
       "      <td>12-08-2016</td>\n",
       "      <td>1843</td>\n",
       "      <td>French Ligue 1</td>\n",
       "      <td>AS Monaco</td>\n",
       "      <td>Guingamp</td>\n",
       "      <td>68.85</td>\n",
       "      <td>56.48</td>\n",
       "      <td>0.5714</td>\n",
       "      <td>0.1669</td>\n",
       "      <td>0.2617</td>\n",
       "      <td>...</td>\n",
       "      <td>53.7</td>\n",
       "      <td>22.9</td>\n",
       "      <td>2.0</td>\n",
       "      <td>2.0</td>\n",
       "      <td>2.45</td>\n",
       "      <td>0.77</td>\n",
       "      <td>1.75</td>\n",
       "      <td>0.42</td>\n",
       "      <td>2.10</td>\n",
       "      <td>2.10</td>\n",
       "    </tr>\n",
       "    <tr>\n",
       "      <th>2</th>\n",
       "      <td>13-08-2016</td>\n",
       "      <td>2411</td>\n",
       "      <td>Barclays Premier League</td>\n",
       "      <td>Hull City</td>\n",
       "      <td>Leicester City</td>\n",
       "      <td>53.57</td>\n",
       "      <td>66.81</td>\n",
       "      <td>0.3459</td>\n",
       "      <td>0.3621</td>\n",
       "      <td>0.2921</td>\n",
       "      <td>...</td>\n",
       "      <td>38.1</td>\n",
       "      <td>22.2</td>\n",
       "      <td>2.0</td>\n",
       "      <td>1.0</td>\n",
       "      <td>0.85</td>\n",
       "      <td>2.77</td>\n",
       "      <td>0.17</td>\n",
       "      <td>1.25</td>\n",
       "      <td>2.10</td>\n",
       "      <td>1.05</td>\n",
       "    </tr>\n",
       "    <tr>\n",
       "      <th>3</th>\n",
       "      <td>13-08-2016</td>\n",
       "      <td>2411</td>\n",
       "      <td>Barclays Premier League</td>\n",
       "      <td>Crystal Palace</td>\n",
       "      <td>West Bromwich Albion</td>\n",
       "      <td>55.19</td>\n",
       "      <td>58.66</td>\n",
       "      <td>0.4214</td>\n",
       "      <td>0.2939</td>\n",
       "      <td>0.2847</td>\n",
       "      <td>...</td>\n",
       "      <td>43.6</td>\n",
       "      <td>34.6</td>\n",
       "      <td>0.0</td>\n",
       "      <td>1.0</td>\n",
       "      <td>1.11</td>\n",
       "      <td>0.68</td>\n",
       "      <td>0.84</td>\n",
       "      <td>1.60</td>\n",
       "      <td>0.00</td>\n",
       "      <td>1.05</td>\n",
       "    </tr>\n",
       "    <tr>\n",
       "      <th>4</th>\n",
       "      <td>13-08-2016</td>\n",
       "      <td>2411</td>\n",
       "      <td>Barclays Premier League</td>\n",
       "      <td>Everton</td>\n",
       "      <td>Tottenham Hotspur</td>\n",
       "      <td>68.02</td>\n",
       "      <td>73.25</td>\n",
       "      <td>0.3910</td>\n",
       "      <td>0.3401</td>\n",
       "      <td>0.2689</td>\n",
       "      <td>...</td>\n",
       "      <td>31.9</td>\n",
       "      <td>48.0</td>\n",
       "      <td>1.0</td>\n",
       "      <td>1.0</td>\n",
       "      <td>0.73</td>\n",
       "      <td>1.11</td>\n",
       "      <td>0.88</td>\n",
       "      <td>1.81</td>\n",
       "      <td>1.05</td>\n",
       "      <td>1.05</td>\n",
       "    </tr>\n",
       "  </tbody>\n",
       "</table>\n",
       "<p>5 rows × 22 columns</p>\n",
       "</div>"
      ],
      "text/plain": [
       "         date  league_id                   league           team1  \\\n",
       "0  12-08-2016       1843           French Ligue 1          Bastia   \n",
       "1  12-08-2016       1843           French Ligue 1       AS Monaco   \n",
       "2  13-08-2016       2411  Barclays Premier League       Hull City   \n",
       "3  13-08-2016       2411  Barclays Premier League  Crystal Palace   \n",
       "4  13-08-2016       2411  Barclays Premier League         Everton   \n",
       "\n",
       "                  team2   spi1   spi2   prob1   prob2  probtie  ...  \\\n",
       "0   Paris Saint-Germain  51.16  85.68  0.0463  0.8380   0.1157  ...   \n",
       "1              Guingamp  68.85  56.48  0.5714  0.1669   0.2617  ...   \n",
       "2        Leicester City  53.57  66.81  0.3459  0.3621   0.2921  ...   \n",
       "3  West Bromwich Albion  55.19  58.66  0.4214  0.2939   0.2847  ...   \n",
       "4     Tottenham Hotspur  68.02  73.25  0.3910  0.3401   0.2689  ...   \n",
       "\n",
       "   importance1  importance2  score1  score2   xg1   xg2  nsxg1  nsxg2  \\\n",
       "0         32.4         67.7     0.0     1.0  0.97  0.63   0.43   0.45   \n",
       "1         53.7         22.9     2.0     2.0  2.45  0.77   1.75   0.42   \n",
       "2         38.1         22.2     2.0     1.0  0.85  2.77   0.17   1.25   \n",
       "3         43.6         34.6     0.0     1.0  1.11  0.68   0.84   1.60   \n",
       "4         31.9         48.0     1.0     1.0  0.73  1.11   0.88   1.81   \n",
       "\n",
       "   adj_score1  adj_score2  \n",
       "0        0.00        1.05  \n",
       "1        2.10        2.10  \n",
       "2        2.10        1.05  \n",
       "3        0.00        1.05  \n",
       "4        1.05        1.05  \n",
       "\n",
       "[5 rows x 22 columns]"
      ]
     },
     "execution_count": 3,
     "metadata": {},
     "output_type": "execute_result"
    }
   ],
   "source": [
    "df.head()"
   ]
  },
  {
   "cell_type": "code",
   "execution_count": 4,
   "metadata": {},
   "outputs": [
    {
     "data": {
      "text/html": [
       "<div>\n",
       "<style scoped>\n",
       "    .dataframe tbody tr th:only-of-type {\n",
       "        vertical-align: middle;\n",
       "    }\n",
       "\n",
       "    .dataframe tbody tr th {\n",
       "        vertical-align: top;\n",
       "    }\n",
       "\n",
       "    .dataframe thead th {\n",
       "        text-align: right;\n",
       "    }\n",
       "</style>\n",
       "<table border=\"1\" class=\"dataframe\">\n",
       "  <thead>\n",
       "    <tr style=\"text-align: right;\">\n",
       "      <th></th>\n",
       "      <th>spi1</th>\n",
       "      <th>spi2</th>\n",
       "      <th>prob1</th>\n",
       "      <th>prob2</th>\n",
       "      <th>probtie</th>\n",
       "      <th>proj_score1</th>\n",
       "      <th>proj_score2</th>\n",
       "      <th>importance1</th>\n",
       "      <th>importance2</th>\n",
       "      <th>score1</th>\n",
       "      <th>score2</th>\n",
       "      <th>xg1</th>\n",
       "      <th>xg2</th>\n",
       "      <th>nsxg1</th>\n",
       "      <th>nsxg2</th>\n",
       "      <th>adj_score1</th>\n",
       "      <th>adj_score2</th>\n",
       "    </tr>\n",
       "  </thead>\n",
       "  <tbody>\n",
       "    <tr>\n",
       "      <th>count</th>\n",
       "      <td>32292.000000</td>\n",
       "      <td>32292.000000</td>\n",
       "      <td>32292.000000</td>\n",
       "      <td>32292.000000</td>\n",
       "      <td>32292.000000</td>\n",
       "      <td>32292.000000</td>\n",
       "      <td>32292.000000</td>\n",
       "      <td>23948.000000</td>\n",
       "      <td>23948.000000</td>\n",
       "      <td>28240.000000</td>\n",
       "      <td>28240.000000</td>\n",
       "      <td>15486.000000</td>\n",
       "      <td>15486.000000</td>\n",
       "      <td>15486.000000</td>\n",
       "      <td>15486.000000</td>\n",
       "      <td>15486.000000</td>\n",
       "      <td>15486.000000</td>\n",
       "    </tr>\n",
       "    <tr>\n",
       "      <th>mean</th>\n",
       "      <td>45.056564</td>\n",
       "      <td>45.003234</td>\n",
       "      <td>0.452435</td>\n",
       "      <td>0.294473</td>\n",
       "      <td>0.253092</td>\n",
       "      <td>1.527233</td>\n",
       "      <td>1.155343</td>\n",
       "      <td>31.312849</td>\n",
       "      <td>30.639093</td>\n",
       "      <td>1.534313</td>\n",
       "      <td>1.171282</td>\n",
       "      <td>1.507819</td>\n",
       "      <td>1.156104</td>\n",
       "      <td>1.418716</td>\n",
       "      <td>1.131262</td>\n",
       "      <td>1.553896</td>\n",
       "      <td>1.179542</td>\n",
       "    </tr>\n",
       "    <tr>\n",
       "      <th>std</th>\n",
       "      <td>19.021098</td>\n",
       "      <td>19.007820</td>\n",
       "      <td>0.159338</td>\n",
       "      <td>0.143243</td>\n",
       "      <td>0.048084</td>\n",
       "      <td>0.432720</td>\n",
       "      <td>0.425020</td>\n",
       "      <td>25.969452</td>\n",
       "      <td>25.633691</td>\n",
       "      <td>1.282984</td>\n",
       "      <td>1.133444</td>\n",
       "      <td>0.831921</td>\n",
       "      <td>0.725052</td>\n",
       "      <td>0.655838</td>\n",
       "      <td>0.569318</td>\n",
       "      <td>1.250020</td>\n",
       "      <td>1.120577</td>\n",
       "    </tr>\n",
       "    <tr>\n",
       "      <th>min</th>\n",
       "      <td>3.880000</td>\n",
       "      <td>4.040000</td>\n",
       "      <td>0.027100</td>\n",
       "      <td>0.003200</td>\n",
       "      <td>0.000000</td>\n",
       "      <td>0.250000</td>\n",
       "      <td>0.200000</td>\n",
       "      <td>0.000000</td>\n",
       "      <td>0.000000</td>\n",
       "      <td>0.000000</td>\n",
       "      <td>0.000000</td>\n",
       "      <td>0.000000</td>\n",
       "      <td>0.000000</td>\n",
       "      <td>0.000000</td>\n",
       "      <td>0.000000</td>\n",
       "      <td>0.000000</td>\n",
       "      <td>0.000000</td>\n",
       "    </tr>\n",
       "    <tr>\n",
       "      <th>25%</th>\n",
       "      <td>31.160000</td>\n",
       "      <td>31.150000</td>\n",
       "      <td>0.352100</td>\n",
       "      <td>0.201000</td>\n",
       "      <td>0.234500</td>\n",
       "      <td>1.250000</td>\n",
       "      <td>0.890000</td>\n",
       "      <td>11.000000</td>\n",
       "      <td>10.600000</td>\n",
       "      <td>1.000000</td>\n",
       "      <td>0.000000</td>\n",
       "      <td>0.890000</td>\n",
       "      <td>0.610000</td>\n",
       "      <td>0.960000</td>\n",
       "      <td>0.730000</td>\n",
       "      <td>1.050000</td>\n",
       "      <td>0.000000</td>\n",
       "    </tr>\n",
       "    <tr>\n",
       "      <th>50%</th>\n",
       "      <td>43.010000</td>\n",
       "      <td>42.900000</td>\n",
       "      <td>0.444200</td>\n",
       "      <td>0.278600</td>\n",
       "      <td>0.261000</td>\n",
       "      <td>1.460000</td>\n",
       "      <td>1.110000</td>\n",
       "      <td>26.200000</td>\n",
       "      <td>25.300000</td>\n",
       "      <td>1.000000</td>\n",
       "      <td>1.000000</td>\n",
       "      <td>1.380000</td>\n",
       "      <td>1.030000</td>\n",
       "      <td>1.330000</td>\n",
       "      <td>1.050000</td>\n",
       "      <td>1.050000</td>\n",
       "      <td>1.050000</td>\n",
       "    </tr>\n",
       "    <tr>\n",
       "      <th>75%</th>\n",
       "      <td>58.470000</td>\n",
       "      <td>58.310000</td>\n",
       "      <td>0.542000</td>\n",
       "      <td>0.368300</td>\n",
       "      <td>0.282500</td>\n",
       "      <td>1.730000</td>\n",
       "      <td>1.370000</td>\n",
       "      <td>45.400000</td>\n",
       "      <td>44.600000</td>\n",
       "      <td>2.000000</td>\n",
       "      <td>2.000000</td>\n",
       "      <td>1.980000</td>\n",
       "      <td>1.550000</td>\n",
       "      <td>1.760000</td>\n",
       "      <td>1.430000</td>\n",
       "      <td>2.100000</td>\n",
       "      <td>2.100000</td>\n",
       "    </tr>\n",
       "    <tr>\n",
       "      <th>max</th>\n",
       "      <td>96.570000</td>\n",
       "      <td>96.780000</td>\n",
       "      <td>0.977500</td>\n",
       "      <td>0.899200</td>\n",
       "      <td>0.453700</td>\n",
       "      <td>4.900000</td>\n",
       "      <td>4.010000</td>\n",
       "      <td>100.000000</td>\n",
       "      <td>100.000000</td>\n",
       "      <td>10.000000</td>\n",
       "      <td>9.000000</td>\n",
       "      <td>7.070000</td>\n",
       "      <td>6.200000</td>\n",
       "      <td>6.890000</td>\n",
       "      <td>5.920000</td>\n",
       "      <td>9.150000</td>\n",
       "      <td>7.930000</td>\n",
       "    </tr>\n",
       "  </tbody>\n",
       "</table>\n",
       "</div>"
      ],
      "text/plain": [
       "               spi1          spi2         prob1         prob2       probtie  \\\n",
       "count  32292.000000  32292.000000  32292.000000  32292.000000  32292.000000   \n",
       "mean      45.056564     45.003234      0.452435      0.294473      0.253092   \n",
       "std       19.021098     19.007820      0.159338      0.143243      0.048084   \n",
       "min        3.880000      4.040000      0.027100      0.003200      0.000000   \n",
       "25%       31.160000     31.150000      0.352100      0.201000      0.234500   \n",
       "50%       43.010000     42.900000      0.444200      0.278600      0.261000   \n",
       "75%       58.470000     58.310000      0.542000      0.368300      0.282500   \n",
       "max       96.570000     96.780000      0.977500      0.899200      0.453700   \n",
       "\n",
       "        proj_score1   proj_score2   importance1   importance2        score1  \\\n",
       "count  32292.000000  32292.000000  23948.000000  23948.000000  28240.000000   \n",
       "mean       1.527233      1.155343     31.312849     30.639093      1.534313   \n",
       "std        0.432720      0.425020     25.969452     25.633691      1.282984   \n",
       "min        0.250000      0.200000      0.000000      0.000000      0.000000   \n",
       "25%        1.250000      0.890000     11.000000     10.600000      1.000000   \n",
       "50%        1.460000      1.110000     26.200000     25.300000      1.000000   \n",
       "75%        1.730000      1.370000     45.400000     44.600000      2.000000   \n",
       "max        4.900000      4.010000    100.000000    100.000000     10.000000   \n",
       "\n",
       "             score2           xg1           xg2         nsxg1         nsxg2  \\\n",
       "count  28240.000000  15486.000000  15486.000000  15486.000000  15486.000000   \n",
       "mean       1.171282      1.507819      1.156104      1.418716      1.131262   \n",
       "std        1.133444      0.831921      0.725052      0.655838      0.569318   \n",
       "min        0.000000      0.000000      0.000000      0.000000      0.000000   \n",
       "25%        0.000000      0.890000      0.610000      0.960000      0.730000   \n",
       "50%        1.000000      1.380000      1.030000      1.330000      1.050000   \n",
       "75%        2.000000      1.980000      1.550000      1.760000      1.430000   \n",
       "max        9.000000      7.070000      6.200000      6.890000      5.920000   \n",
       "\n",
       "         adj_score1    adj_score2  \n",
       "count  15486.000000  15486.000000  \n",
       "mean       1.553896      1.179542  \n",
       "std        1.250020      1.120577  \n",
       "min        0.000000      0.000000  \n",
       "25%        1.050000      0.000000  \n",
       "50%        1.050000      1.050000  \n",
       "75%        2.100000      2.100000  \n",
       "max        9.150000      7.930000  "
      ]
     },
     "execution_count": 4,
     "metadata": {},
     "output_type": "execute_result"
    }
   ],
   "source": [
    "reg_df = df.drop(columns=['date','league_id','league','team1','team2'])\n",
    "reg_df.describe()"
   ]
  },
  {
   "cell_type": "code",
   "execution_count": 5,
   "metadata": {},
   "outputs": [],
   "source": [
    "#Dropping nas\n",
    "reg_df.dropna(subset=['score1','score2'],inplace=True)"
   ]
  },
  {
   "cell_type": "code",
   "execution_count": 6,
   "metadata": {},
   "outputs": [
    {
     "data": {
      "text/plain": [
       "spi1           0\n",
       "spi2           0\n",
       "prob1          0\n",
       "prob2          0\n",
       "probtie        0\n",
       "proj_score1    0\n",
       "proj_score2    0\n",
       "importance1    0\n",
       "importance2    0\n",
       "score1         0\n",
       "score2         0\n",
       "xg1            0\n",
       "xg2            0\n",
       "nsxg1          0\n",
       "nsxg2          0\n",
       "adj_score1     0\n",
       "adj_score2     0\n",
       "dtype: int64"
      ]
     },
     "execution_count": 6,
     "metadata": {},
     "output_type": "execute_result"
    }
   ],
   "source": [
    "# Fill Empty or NaN values with the mean\n",
    "reg_df.fillna(reg_df.mean(),inplace=True)\n",
    "reg_df.isna().sum()"
   ]
  },
  {
   "cell_type": "code",
   "execution_count": 7,
   "metadata": {},
   "outputs": [],
   "source": [
    "no_score_df = reg_df.drop(columns=['score1','score2'])"
   ]
  },
  {
   "cell_type": "markdown",
   "metadata": {},
   "source": [
    "# Test and Train data split"
   ]
  },
  {
   "cell_type": "code",
   "execution_count": 8,
   "metadata": {},
   "outputs": [],
   "source": [
    "# Split Total Data into Train and Test\n",
    "from sklearn.model_selection import train_test_split\n",
    "\n",
    "team1X_train, team1X_test, team1Y_train, team1Y_test = train_test_split(no_score_df, reg_df.score1, random_state=1)"
   ]
  },
  {
   "cell_type": "code",
   "execution_count": 9,
   "metadata": {},
   "outputs": [],
   "source": [
    "#Lasso regression for Team1"
   ]
  },
  {
   "cell_type": "code",
   "execution_count": 10,
   "metadata": {},
   "outputs": [
    {
     "data": {
      "text/plain": [
       "Lasso()"
      ]
     },
     "execution_count": 10,
     "metadata": {},
     "output_type": "execute_result"
    }
   ],
   "source": [
    "from sklearn.linear_model import Lasso\n",
    "\n",
    "# Linear Regression \n",
    "\n",
    "team1Reg = Lasso()\n",
    "team1Reg.fit(team1X_train,team1Y_train)"
   ]
  },
  {
   "cell_type": "code",
   "execution_count": 11,
   "metadata": {},
   "outputs": [],
   "source": [
    "team1Predict_train = team1Reg.predict(team1X_train)\n",
    "team1Predict_test = team1Reg.predict(team1X_test)"
   ]
  },
  {
   "cell_type": "markdown",
   "metadata": {},
   "source": [
    "# Lasso Regression for Team 1"
   ]
  },
  {
   "cell_type": "code",
   "execution_count": 30,
   "metadata": {},
   "outputs": [
    {
     "name": "stdout",
     "output_type": "stream",
     "text": [
      "0.709\n",
      "0.731\n"
     ]
    }
   ],
   "source": [
    "# Print Lasso Regression Mean Square Error for Team 1\n",
    "\n",
    "lfTrainTeam1MSE = round(np.mean(np.subtract(team1Y_train.values,team1Predict_train) ** 2),3)\n",
    "print(lfTrainTeam1MSE)\n",
    "lfTestTeam1MSE = round(np.mean(np.subtract(team1Y_test.values,team1Predict_test) ** 2),3)\n",
    "print(lfTestTeam1MSE)"
   ]
  },
  {
   "cell_type": "code",
   "execution_count": 13,
   "metadata": {},
   "outputs": [
    {
     "data": {
      "text/plain": [
       "Text(0.5, 1.0, 'Residual Plot for Team 1 - Train:Green and Test:Orange')"
      ]
     },
     "execution_count": 13,
     "metadata": {},
     "output_type": "execute_result"
    },
    {
     "data": {
      "image/png": "[encoded data removed]",
      "text/plain": [
       "<Figure size 432x288 with 1 Axes>"
      ]
     },
     "metadata": {
      "needs_background": "light"
     },
     "output_type": "display_data"
    }
   ],
   "source": [
    "plt.scatter(team1Predict_train,np.subtract(team1Predict_train,team1Y_train.values),c='g')\n",
    "plt.scatter(team1Predict_test,np.subtract(team1Predict_test,team1Y_test.values),c='orange')\n",
    "plt.hlines(y=0,xmin=0,xmax=5)\n",
    "\n",
    "plt.title('Residual Plot for Team 1 - Train:Green and Test:Orange')"
   ]
  },
  {
   "cell_type": "markdown",
   "metadata": {},
   "source": [
    "# Lasso Regression for Team2"
   ]
  },
  {
   "cell_type": "code",
   "execution_count": 14,
   "metadata": {},
   "outputs": [
    {
     "data": {
      "text/plain": [
       "Lasso()"
      ]
     },
     "execution_count": 14,
     "metadata": {},
     "output_type": "execute_result"
    }
   ],
   "source": [
    "from sklearn.model_selection import train_test_split\n",
    "\n",
    "team2X_train, team2X_test, team2Y_train, team2Y_test = train_test_split(no_score_df, reg_df.score2, random_state=5)\n",
    "\n",
    "from sklearn.linear_model import Lasso\n",
    "team2Reg = Lasso()\n",
    "team2Reg.fit(team2X_train,team2Y_train)"
   ]
  },
  {
   "cell_type": "code",
   "execution_count": 15,
   "metadata": {},
   "outputs": [
    {
     "name": "stdout",
     "output_type": "stream",
     "text": [
      "1.203\n",
      "1.226\n"
     ]
    }
   ],
   "source": [
    "# Print Lasso Regression Mean Square Error for Team 2\n",
    "\n",
    "team2Predict_train = team2Reg.predict(team2X_train)\n",
    "team2Predict_test = team2Reg.predict(team2X_test)\n",
    "\n",
    "lfTrainTeam2MSE = round(np.mean(np.subtract(team2Y_train.values,team2Predict_train) ** 2),3)\n",
    "lfTestTeam2MSE = round((np.mean(np.subtract(team2Y_test.values,team2Predict_test) ** 2)),3)\n",
    "\n",
    "print(lfTrainTeam2MSE)\n",
    "print(lfTestTeam2MSE)"
   ]
  },
  {
   "cell_type": "code",
   "execution_count": 16,
   "metadata": {},
   "outputs": [
    {
     "data": {
      "text/plain": [
       "Text(0.5, 1.0, 'Residual Plot for Team 2 - Train:Green and Test:Orange')"
      ]
     },
     "execution_count": 16,
     "metadata": {},
     "output_type": "execute_result"
    },
    {
     "data": {
      "image/png": "[encoded data removed]",
      "text/plain": [
       "<Figure size 432x288 with 1 Axes>"
      ]
     },
     "metadata": {
      "needs_background": "light"
     },
     "output_type": "display_data"
    }
   ],
   "source": [
    "plt.scatter(team2Predict_train,np.subtract(team2Predict_train,team2Y_train.values),c='g')\n",
    "plt.scatter(team2Predict_test,np.subtract(team2Predict_test,team2Y_test.values),c='orange')\n",
    "plt.hlines(y=0,xmin=0,xmax=5)\n",
    "\n",
    "plt.title('Residual Plot for Team 2 - Train:Green and Test:Orange')"
   ]
  },
  {
   "cell_type": "markdown",
   "metadata": {},
   "source": [
    "# Linear Regression for Team1"
   ]
  },
  {
   "cell_type": "code",
   "execution_count": 17,
   "metadata": {},
   "outputs": [
    {
     "data": {
      "text/plain": [
       "LinearRegression()"
      ]
     },
     "execution_count": 17,
     "metadata": {},
     "output_type": "execute_result"
    }
   ],
   "source": [
    "from sklearn.linear_model import LinearRegression\n",
    "\n",
    "# Linear Regression \n",
    "\n",
    "team1Reg = LinearRegression()\n",
    "team1Reg.fit(team1X_train,team1Y_train)"
   ]
  },
  {
   "cell_type": "code",
   "execution_count": 18,
   "metadata": {},
   "outputs": [],
   "source": [
    "team1Predict_train = team1Reg.predict(team1X_train)\n",
    "team1Predict_test = team1Reg.predict(team1X_test)"
   ]
  },
  {
   "cell_type": "code",
   "execution_count": 19,
   "metadata": {},
   "outputs": [
    {
     "name": "stdout",
     "output_type": "stream",
     "text": [
      "0.709\n",
      "0.731\n"
     ]
    }
   ],
   "source": [
    "# Print Linear Regression Mean Square Error for Team 1\n",
    "\n",
    "lfTrainTeam1MSE = round(np.mean(np.subtract(team1Y_train.values,team1Predict_train) ** 2),3)\n",
    "print(lfTrainTeam1MSE)\n",
    "lfTestTeam1MSE = round(np.mean(np.subtract(team1Y_test.values,team1Predict_test) ** 2),3)\n",
    "print(lfTestTeam1MSE)"
   ]
  },
  {
   "cell_type": "code",
   "execution_count": 20,
   "metadata": {},
   "outputs": [
    {
     "data": {
      "text/plain": [
       "Text(0.5, 1.0, 'Residual Plot for Team 1 - Train:Green and Test:Orange')"
      ]
     },
     "execution_count": 20,
     "metadata": {},
     "output_type": "execute_result"
    },
    {
     "data": {
      "image/png": "[encoded data removed]",
      "text/plain": [
       "<Figure size 432x288 with 1 Axes>"
      ]
     },
     "metadata": {
      "needs_background": "light"
     },
     "output_type": "display_data"
    }
   ],
   "source": [
    "plt.scatter(team1Predict_train,np.subtract(team1Predict_train,team1Y_train.values),c='g')\n",
    "plt.scatter(team1Predict_test,np.subtract(team1Predict_test,team1Y_test.values),c='orange')\n",
    "plt.hlines(y=0,xmin=0,xmax=5)\n",
    "\n",
    "plt.title('Residual Plot for Team 1 - Train:Green and Test:Orange')"
   ]
  },
  {
   "cell_type": "markdown",
   "metadata": {},
   "source": [
    "# Linear Regression for Team2"
   ]
  },
  {
   "cell_type": "code",
   "execution_count": 21,
   "metadata": {},
   "outputs": [
    {
     "data": {
      "text/plain": [
       "LinearRegression()"
      ]
     },
     "execution_count": 21,
     "metadata": {},
     "output_type": "execute_result"
    }
   ],
   "source": [
    "from sklearn.model_selection import train_test_split\n",
    "\n",
    "team2X_train, team2X_test, team2Y_train, team2Y_test = train_test_split(no_score_df, reg_df.score2, random_state=5)\n",
    "\n",
    "from sklearn.linear_model import LinearRegression\n",
    "team2Reg = LinearRegression()\n",
    "team2Reg.fit(team2X_train,team2Y_train)"
   ]
  },
  {
   "cell_type": "code",
   "execution_count": 22,
   "metadata": {},
   "outputs": [
    {
     "name": "stdout",
     "output_type": "stream",
     "text": [
      "0.554\n",
      "0.56\n"
     ]
    }
   ],
   "source": [
    "# Print Linear Regression Mean Square Error for Team 2\n",
    "\n",
    "team2Predict_train = team2Reg.predict(team2X_train)\n",
    "team2Predict_test = team2Reg.predict(team2X_test)\n",
    "\n",
    "lfTrainTeam2MSE = round(np.mean(np.subtract(team2Y_train.values,team2Predict_train) ** 2),3)\n",
    "lfTestTeam2MSE = round((np.mean(np.subtract(team2Y_test.values,team2Predict_test) ** 2)),3)\n",
    "\n",
    "print(lfTrainTeam2MSE)\n",
    "print(lfTestTeam2MSE)"
   ]
  },
  {
   "cell_type": "code",
   "execution_count": 23,
   "metadata": {},
   "outputs": [
    {
     "data": {
      "text/plain": [
       "Text(0.5, 1.0, 'Residual Plot for Team 2 - Train:Green and Test:Orange')"
      ]
     },
     "execution_count": 23,
     "metadata": {},
     "output_type": "execute_result"
    },
    {
     "data": {
      "image/png": "[encoded data removed]",
      "text/plain": [
       "<Figure size 432x288 with 1 Axes>"
      ]
     },
     "metadata": {
      "needs_background": "light"
     },
     "output_type": "display_data"
    }
   ],
   "source": [
    "plt.scatter(team2Predict_train,np.subtract(team2Predict_train,team2Y_train.values),c='g')\n",
    "plt.scatter(team2Predict_test,np.subtract(team2Predict_test,team2Y_test.values),c='orange')\n",
    "plt.hlines(y=0,xmin=0,xmax=5)\n",
    "\n",
    "plt.title('Residual Plot for Team 2 - Train:Green and Test:Orange')"
   ]
  },
  {
   "cell_type": "markdown",
   "metadata": {},
   "source": [
    "# Random Forest Regressor For Team1"
   ]
  },
  {
   "cell_type": "code",
   "execution_count": 24,
   "metadata": {},
   "outputs": [],
   "source": [
    "# Regression Model - Team 1\n",
    "from sklearn.ensemble import RandomForestRegressor\n",
    "# Instantiate model with 100 decision trees\n",
    "rfTeam1 = RandomForestRegressor(n_estimators = 100, random_state = 42)\n",
    "rfTeam1.fit(team1X_train,team1Y_train);"
   ]
  },
  {
   "cell_type": "code",
   "execution_count": 25,
   "metadata": {},
   "outputs": [
    {
     "name": "stdout",
     "output_type": "stream",
     "text": [
      "Mean Square Error Train: 0.099\n",
      "Mean Square Error Test: 0.73\n"
     ]
    }
   ],
   "source": [
    "# Print Random Forest Regression Mean Square Error for Team 1\n",
    "\n",
    "rfPredictTrainTeam1 = rfTeam1.predict(team1X_train)\n",
    "# Calculate the Square errors\n",
    "rfErrorTrainTeam1 = (rfPredictTrainTeam1 - team1Y_train)**2\n",
    "rfTrainTeam1MSE =  round(np.mean(rfErrorTrainTeam1),3)\n",
    "print('Mean Square Error Train:', rfTrainTeam1MSE)\n",
    "\n",
    "\n",
    "\n",
    "rfPredictTeam1 = rfTeam1.predict(team1X_test)\n",
    "rfErrorTeam1 = (rfPredictTeam1 - team1Y_test)**2\n",
    "rfTestTeam1MSE = round(np.mean(rfErrorTeam1),3)\n",
    "print('Mean Square Error Test:', rfTestTeam1MSE)"
   ]
  },
  {
   "cell_type": "markdown",
   "metadata": {},
   "source": [
    "# Random Forest Regression for Team2"
   ]
  },
  {
   "cell_type": "code",
   "execution_count": 26,
   "metadata": {},
   "outputs": [],
   "source": [
    "# Regression for Team 2\n",
    "\n",
    "from sklearn.ensemble import RandomForestRegressor\n",
    "rfTeam2 = RandomForestRegressor(n_estimators = 100, random_state = 62)\n",
    "rfTeam2.fit(team2X_train,team2Y_train);"
   ]
  },
  {
   "cell_type": "code",
   "execution_count": 27,
   "metadata": {},
   "outputs": [
    {
     "name": "stdout",
     "output_type": "stream",
     "text": [
      "Mean Square Error Train: 0.078\n",
      "Mean Square Error Test: 0.573\n"
     ]
    }
   ],
   "source": [
    "# Print Random Forest Regression Mean Square Error for Team 2\n",
    "\n",
    "rfPredictTrainTeam2 = rfTeam2.predict(team2X_train)\n",
    "# Calculate the Square errors\n",
    "rfErrorTrainTeam2 = (rfPredictTrainTeam2 - team2Y_train)**2\n",
    "# Print out the mean absolute error (mae)\n",
    "rfTrainTeam2MSE =  round(np.mean(rfErrorTrainTeam2),3)\n",
    "print('Mean Square Error Train:', rfTrainTeam2MSE)\n",
    "\n",
    "\n",
    "# Use the forest's predict method on the test data\n",
    "rfPredictTeam2 = rfTeam2.predict(team2X_test)\n",
    "# Calculate the absolute errors\n",
    "rfErrorTeam2 = (rfPredictTeam2 - team2Y_test) **2\n",
    "# Print out the mean absolute error (mae)\n",
    "rfTestTeam2MSE = round(np.mean(rfErrorTeam2),3)\n",
    "print('Mean Square Error Test:', rfTestTeam2MSE)"
   ]
  },
  {
   "cell_type": "code",
   "execution_count": 28,
   "metadata": {},
   "outputs": [
    {
     "data": {
      "image/png": "[encoded data removed]",
      "text/plain": [
       "<Figure size 432x288 with 1 Axes>"
      ]
     },
     "metadata": {
      "needs_background": "light"
     },
     "output_type": "display_data"
    }
   ],
   "source": [
    "# Plot the Mean Square Error for Comparison\n",
    "n_groups = 4\n",
    "train_mse = (lfTrainTeam1MSE, lfTrainTeam2MSE,rfTrainTeam1MSE,rfTrainTeam2MSE)\n",
    "test_mse = (lfTestTeam1MSE,lfTestTeam2MSE,rfTestTeam1MSE,rfTestTeam2MSE)\n",
    " \n",
    "# create plot\n",
    "fig, ax = plt.subplots()\n",
    "index = np.arange(n_groups)\n",
    "bar_width = 0.35\n",
    "opacity = 0.8\n",
    " \n",
    "rects1 = plt.bar(index, train_mse, bar_width,\n",
    "                 alpha=opacity,\n",
    "                 color='orange',\n",
    "                 label='Train')\n",
    " \n",
    "rects2 = plt.bar(index + bar_width, test_mse, bar_width,\n",
    "                 alpha=opacity,\n",
    "                 color='yellow',\n",
    "                 label='Test')\n",
    " \n",
    "plt.xlabel('Regression Method & Teams')\n",
    "plt.ylabel('Mean Square Error')\n",
    "plt.title('Mean Square Error of each Methods & Teams')\n",
    "plt.xticks(index + bar_width, ('Linear - Team 1', 'Linear - Team 2', 'RF - Team 1', 'RF - Team 2'))\n",
    "plt.legend()\n",
    " \n",
    "plt.tight_layout()"
   ]
  },
  {
   "cell_type": "markdown",
   "metadata": {},
   "source": [
    "# Conclusion"
   ]
  },
  {
   "cell_type": "markdown",
   "metadata": {},
   "source": [
    "Simple linear regression is similar to correlation in that the purpose is to measure to what extent there is a linear relationship between two variables.\n",
    "\n",
    "In particular, the purpose of linear regression is to \"predict\" the value of the dependent variable based upon the values of one or more independent variables."
   ]
  }
 ],
 "metadata": {
  "kernelspec": {
   "display_name": "Python 3",
   "language": "python",
   "name": "python3"
  },
  "language_info": {
   "codemirror_mode": {
    "name": "ipython",
    "version": 3
   },
   "file_extension": ".py",
   "mimetype": "text/x-python",
   "name": "python",
   "nbconvert_exporter": "python",
   "pygments_lexer": "ipython3",
   "version": "3.7.7"
  }
 },
 "nbformat": 4,
 "nbformat_minor": 4
}
